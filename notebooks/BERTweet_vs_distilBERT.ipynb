{
 "cells": [
  {
   "cell_type": "markdown",
   "id": "03388f51",
   "metadata": {},
   "source": [
    "# 🤖 Comparaison de Modèles : BERTweet vs DistilBERT\n",
    "\n",
    "Ce notebook compare deux modèles de classification de texte **préentraînés** dans le cadre d'une tâche d’analyse de sentiment.\n",
    "\n",
    "## 🧠 Pourquoi ces deux modèles ?\n",
    "\n",
    "- **🐦 BERTweet** (`vinai/bertweet-base`)  \n",
    "  Ce modèle est basé sur la même architecture que BERT, mais a été **entraîné spécifiquement sur des tweets**. Il est particulièrement adapté aux textes informels, courts et bruités comme ceux des réseaux sociaux (Twitter, SMS...).\n",
    "\n",
    "- **🤖 DistilBERT** (`distilbert-base-uncased`)  \n",
    "  C’est une version **compacte et plus rapide** de BERT, obtenue par distillation. Il offre environ **97% des performances de BERT**, tout en étant **60% plus léger** et **beaucoup plus rapide**, ce qui en fait un excellent choix pour des cas d’usage en production.\n",
    "\n",
    "## 🎯 Objectif\n",
    "\n",
    "Comparer les deux modèles sur un jeu de données d’analyse de sentiment binaire (positif vs négatif) à l’aide des métriques suivantes :\n",
    "- Accuracy\n",
    "- Précision\n",
    "- Rappel\n",
    "- F1-score\n",
    "\n",
    "Les modèles sont évalués sans fine-tuning spécifique, uniquement en réutilisant leurs poids préentraînés."
   ]
  },
  {
   "cell_type": "markdown",
   "id": "57fb4bf1",
   "metadata": {},
   "source": [
    "## 🔧 Configuration et Imports"
   ]
  },
  {
   "cell_type": "code",
   "execution_count": 1,
   "id": "f9dfe2f1",
   "metadata": {},
   "outputs": [
    {
     "name": "stderr",
     "output_type": "stream",
     "text": [
      "2025-07-04 10:58:01.029897: I tensorflow/tsl/cuda/cudart_stub.cc:28] Could not find cuda drivers on your machine, GPU will not be used.\n",
      "2025-07-04 10:58:01.266183: I tensorflow/tsl/cuda/cudart_stub.cc:28] Could not find cuda drivers on your machine, GPU will not be used.\n",
      "2025-07-04 10:58:01.268172: I tensorflow/core/platform/cpu_feature_guard.cc:182] This TensorFlow binary is optimized to use available CPU instructions in performance-critical operations.\n",
      "To enable the following instructions: AVX2 FMA, in other operations, rebuild TensorFlow with the appropriate compiler flags.\n",
      "2025-07-04 10:58:02.480936: W tensorflow/compiler/tf2tensorrt/utils/py_utils.cc:38] TF-TRT Warning: Could not find TensorRT\n"
     ]
    },
    {
     "name": "stdout",
     "output_type": "stream",
     "text": [
      "🚀 TensorFlow version: 2.12.0\n",
      "💻 GPU disponible: ❌ Non (CPU utilisé)\n",
      "\n",
      "🔍 Résultat de nvidia-smi (si disponible):\n",
      "/bin/sh: 1: nvidia-smi: not found\n"
     ]
    }
   ],
   "source": [
    "# Imports principaux\n",
    "import warnings\n",
    "import random\n",
    "import os\n",
    "\n",
    "import datetime\n",
    "import tensorflow as tf\n",
    "from transformers import TFAutoModelForSequenceClassification, AutoTokenizer\n",
    "import pandas as pd\n",
    "import numpy as np\n",
    "from sklearn.metrics import classification_report, accuracy_score, precision_score, recall_score, f1_score\n",
    "import matplotlib.pyplot as plt\n",
    "import seaborn as sns\n",
    "from tensorflow.keras.callbacks import ReduceLROnPlateau, EarlyStopping\n",
    "from tqdm.keras import TqdmCallback\n",
    "from subprocess import getoutput\n",
    "from IPython.core.interactiveshell import InteractiveShell\n",
    "\n",
    "# Configuration pour un meilleur affichage\n",
    "warnings.filterwarnings('ignore')\n",
    "plt.style.use('default')\n",
    "plt.rcParams['figure.figsize'] = (12, 8)\n",
    "plt.rcParams['font.size'] = 12\n",
    "\n",
    "# Réduction du niveau de log de TensorFlow\n",
    "os.environ[\"TF_CPP_MIN_LOG_LEVEL\"] = \"2\"\n",
    "\n",
    "# Permet d'afficher les sorties de toutes les lignes d'une cellule (et non uniquement la dernière)\n",
    "InteractiveShell.ast_node_interactivity = \"all\"\n",
    "\n",
    "print(f\"🚀 TensorFlow version: {tf.__version__}\")\n",
    "print(f\"💻 GPU disponible: {'✅ Oui' if len(tf.config.list_physical_devices('GPU')) > 0 else '❌ Non (CPU utilisé)'}\")\n",
    "print(\"\\n🔍 Résultat de nvidia-smi (si disponible):\")\n",
    "print(getoutput(\"nvidia-smi\"))"
   ]
  },
  {
   "cell_type": "markdown",
   "id": "c97d561e",
   "metadata": {},
   "source": [
    "### 🖥️ Configuration GPU pour NLP\n",
    "\n",
    "Les modèles de NLP comme DistilBERT et BERTweet consomment beaucoup de mémoire."
   ]
  },
  {
   "cell_type": "code",
   "execution_count": 2,
   "id": "e52e0aa3",
   "metadata": {},
   "outputs": [
    {
     "name": "stdout",
     "output_type": "stream",
     "text": [
      "🔧 Utilisation du CPU - Les modèles NLP fonctionnent aussi (plus lentement)\n",
      "\n",
      "💡 Info: Les modèles de transformers comme DistilBERT utilisent beaucoup de mémoire\n",
      "   La croissance progressive évite les erreurs 'Out of Memory'\n"
     ]
    }
   ],
   "source": [
    "# Configuration GPU spéciale pour les modèles NLP volumineux\n",
    "gpus = tf.config.experimental.list_physical_devices('GPU')\n",
    "if gpus:\n",
    "    try:\n",
    "        # Utiliser seulement le premier GPU\n",
    "        tf.config.experimental.set_visible_devices(gpus[0], 'GPU')\n",
    "        # Croissance mémoire progressive (important pour les transformers)\n",
    "        tf.config.experimental.set_memory_growth(gpus[0], True)\n",
    "        print(f\"✅ Configuration GPU réussie: {gpus[0].name}\")\n",
    "        print(\"🧠 Mémoire GPU configurée en croissance progressive\")\n",
    "    except RuntimeError as e:\n",
    "        print(f\"⚠️ Erreur configuration GPU: {e}\")\n",
    "else:\n",
    "    print(\"🔧 Utilisation du CPU - Les modèles NLP fonctionnent aussi (plus lentement)\")\n",
    "\n",
    "print(\"\\n💡 Info: Les modèles de transformers comme DistilBERT utilisent beaucoup de mémoire\")\n",
    "print(\"   La croissance progressive évite les erreurs 'Out of Memory'\")"
   ]
  },
  {
   "cell_type": "markdown",
   "id": "ba7b7331",
   "metadata": {},
   "source": [
    "### ⚙️ Paramètres d'Entraînement pour NLP"
   ]
  },
  {
   "cell_type": "code",
   "execution_count": 3,
   "id": "9073a18d",
   "metadata": {},
   "outputs": [
    {
     "name": "stdout",
     "output_type": "stream",
     "text": [
      "📋 Configuration d'entraînement NLP:\n",
      "   • Taille de batch: 32\n",
      "   • Longueur max: 32 tokens\n",
      "   • Nombre d'époques: 5 (convergence rapide)\n"
     ]
    }
   ],
   "source": [
    "# Définir les seeds pour la reproductibilité\n",
    "SEED = 42\n",
    "random.seed(SEED)\n",
    "np.random.seed(SEED)\n",
    "tf.random.set_seed(SEED)\n",
    "os.environ['PYTHONHASHSEED'] = str(SEED)\n",
    "\n",
    "# Hyperparamètres déduit de l'EDA et des \"Best-practices\"\n",
    "BATCH_SIZE = 32\n",
    "MAX_LENGTH = 32\n",
    "EPOCHS = 5\n",
    "LEARNING_RATE = 2e-5\n",
    "\n",
    "print(\"📋 Configuration d'entraînement NLP:\")\n",
    "print(f\"   • Taille de batch: {BATCH_SIZE}\")\n",
    "print(f\"   • Longueur max: {MAX_LENGTH} tokens\")\n",
    "print(f\"   • Nombre d'époques: {EPOCHS} (convergence rapide)\")"
   ]
  },
  {
   "cell_type": "markdown",
   "id": "d3644f7d",
   "metadata": {},
   "source": [
    "## 📥 Chargement des données CSV déjà nettoyées"
   ]
  },
  {
   "cell_type": "code",
   "execution_count": 4,
   "id": "96442a0d",
   "metadata": {},
   "outputs": [
    {
     "name": "stdout",
     "output_type": "stream",
     "text": [
      "label\n",
      "1    1999\n",
      "0    1998\n",
      "Name: count, dtype: int64\n",
      "label\n",
      "1    428\n",
      "0    428\n",
      "Name: count, dtype: int64\n",
      "label\n",
      "0    429\n",
      "1    428\n",
      "Name: count, dtype: int64\n"
     ]
    }
   ],
   "source": [
    "train_df = pd.read_csv(\"./data/train.csv\")\n",
    "val_df = pd.read_csv(\"./data/val.csv\")\n",
    "test_df = pd.read_csv(\"./data/test.csv\")\n",
    "\n",
    "print(train_df['label'].value_counts())\n",
    "print(val_df['label'].value_counts())\n",
    "print(test_df['label'].value_counts())"
   ]
  },
  {
   "cell_type": "markdown",
   "id": "8673c5e1",
   "metadata": {},
   "source": [
    "## 🛠️ Déclaration des fonctions"
   ]
  },
  {
   "cell_type": "markdown",
   "id": "d3c77fbe",
   "metadata": {},
   "source": [
    "### 🔧 tokenize_dataset - Tokenisation simple d'un dataframe"
   ]
  },
  {
   "cell_type": "code",
   "execution_count": 5,
   "id": "39ad0671",
   "metadata": {},
   "outputs": [],
   "source": [
    "def tokenize_dataset(tokenizer, df):\n",
    "    tokens = tokenizer(\n",
    "        df[\"clean_text\"].tolist(),\n",
    "        truncation=True,\n",
    "        padding=True,\n",
    "        max_length=MAX_LENGTH,\n",
    "        return_tensors=\"tf\"\n",
    "    )\n",
    "    labels = tf.convert_to_tensor(df[\"label\"].values)\n",
    "    return tokens, labels"
   ]
  },
  {
   "cell_type": "markdown",
   "id": "cecbcf4a",
   "metadata": {},
   "source": [
    "### 🧱 prepare_tf_dataset – Création de dataset TensorFlow à partir des tokens"
   ]
  },
  {
   "cell_type": "code",
   "execution_count": 6,
   "id": "1cbbe757",
   "metadata": {},
   "outputs": [],
   "source": [
    "def prepare_tf_dataset(tokens, labels, batch_size=32, shuffle=True):\n",
    "    \"\"\"\n",
    "    Prépare un tf.data.Dataset optimisé à partir des entrées tokenisées.\n",
    "    \"\"\"\n",
    "    dataset = tf.data.Dataset.from_tensor_slices((dict(tokens), labels))\n",
    "    if shuffle:\n",
    "        dataset = dataset.shuffle(1000)\n",
    "\n",
    "    return dataset.batch(batch_size).prefetch(tf.data.AUTOTUNE)"
   ]
  },
  {
   "cell_type": "markdown",
   "id": "c38299b3",
   "metadata": {},
   "source": [
    "### 🛠️ compile_model – Compilation du modèle HF avec Adam & callbacks"
   ]
  },
  {
   "cell_type": "code",
   "execution_count": 7,
   "id": "3af6cc7f",
   "metadata": {},
   "outputs": [],
   "source": [
    "def compile_model(model):\n",
    "    \"\"\"\n",
    "    Compile le modèle avec Adam, CrossEntropy et les métriques définies.\n",
    "    \"\"\"\n",
    "    optimizer = tf.keras.optimizers.Adam(\n",
    "        learning_rate=LEARNING_RATE,\n",
    "        epsilon=1e-08,\n",
    "        clipnorm=1.0\n",
    "    )\n",
    "\n",
    "    loss_fn = tf.keras.losses.SparseCategoricalCrossentropy(from_logits=True)\n",
    "    metrics = [tf.keras.metrics.SparseCategoricalAccuracy(name='accuracy')]\n",
    "\n",
    "    model.compile(optimizer=optimizer, loss=loss_fn, metrics=metrics)\n",
    "    return model"
   ]
  },
  {
   "cell_type": "markdown",
   "id": "76c84218",
   "metadata": {},
   "source": [
    "### 🔧 set_callbacks : Mise en place des callbacks pour l'entrainement"
   ]
  },
  {
   "cell_type": "code",
   "execution_count": 8,
   "id": "9c17d3a5",
   "metadata": {},
   "outputs": [],
   "source": [
    "def set_callbacks(model_name):\n",
    "    log_dir = f\"logs/{model_name.replace('/', '_')}/\" + datetime.datetime.now().strftime(\"%Y%m%d-%H%M%S\")\n",
    "    csv_log_file = f\"{log_dir}/{model_name.replace('/', '_')}_log.csv\"\n",
    "    return [\n",
    "        tf.keras.callbacks.EarlyStopping(\n",
    "            monitor='val_accuracy',\n",
    "            mode='min',\n",
    "            patience=3,\n",
    "            restore_best_weights=True,\n",
    "            verbose=1\n",
    "        ),\n",
    "        tf.keras.callbacks.ReduceLROnPlateau(\n",
    "            monitor='val_accuracy',\n",
    "            factor=0.5,\n",
    "            patience=2,\n",
    "            min_lr=1e-7,\n",
    "            verbose=1\n",
    "        ),\n",
    "        tf.keras.callbacks.ModelCheckpoint(\n",
    "            filepath=f\"models/best_{model_name.replace('/', '_')}\",\n",
    "            monitor='val_accuracy',\n",
    "            mode='min',\n",
    "            save_best_only=True,\n",
    "            save_weights_only=True,\n",
    "            verbose=1\n",
    "        ),\n",
    "        tf.keras.callbacks.CSVLogger(\n",
    "             csv_log_file,\n",
    "             append=True\n",
    "        ),\n",
    "        tf.keras.callbacks.TensorBoard(\n",
    "            log_dir=log_dir,\n",
    "            histogram_freq=1,\n",
    "            write_graph=True,\n",
    "            write_images=True,\n",
    "            update_freq='epoch',\n",
    "            profile_batch=0\n",
    "        ),\n",
    "        TqdmCallback(verbose=1)\n",
    "    ]"
   ]
  },
  {
   "cell_type": "markdown",
   "id": "0f441156",
   "metadata": {},
   "source": [
    "### 🚀 train_model – Fonction principale d'entraînement"
   ]
  },
  {
   "cell_type": "code",
   "execution_count": 9,
   "id": "89152524",
   "metadata": {},
   "outputs": [],
   "source": [
    "def train_model(model_name, train_df, val_df):\n",
    "    print(f\"➡️ Chargement du modèle et tokeniseur : {model_name}\")\n",
    "    tokenizer = AutoTokenizer.from_pretrained(model_name)\n",
    "    model = TFAutoModelForSequenceClassification.from_pretrained(model_name, num_labels=2)\n",
    "\n",
    "    train_tokens, train_labels = tokenize_dataset(tokenizer, train_df)\n",
    "    val_tokens, val_labels = tokenize_dataset(tokenizer, val_df)\n",
    "\n",
    "    train_dataset = prepare_tf_dataset(train_tokens, train_labels, batch_size=BATCH_SIZE)\n",
    "    val_dataset = prepare_tf_dataset(val_tokens, val_labels, batch_size=BATCH_SIZE, shuffle=False)\n",
    "\n",
    "    print(\"⚙️ Compilation du modèle...\")\n",
    "    model = compile_model(model)\n",
    "    print(\"✅ Modèle compilé.\")\n",
    "\n",
    "    print(\"🔥 Entraînement démarré...\")\n",
    "    import time\n",
    "    start = time.time()\n",
    "\n",
    "    history = model.fit(\n",
    "        train_dataset,\n",
    "        validation_data=val_dataset,\n",
    "        epochs=EPOCHS,\n",
    "        callbacks=set_callbacks(model_name),\n",
    "        verbose=0\n",
    "    )\n",
    "\n",
    "    print(f\"⏱️ Temps total: {(time.time() - start)/60:.1f} min\")\n",
    "    return model, tokenizer, history\n"
   ]
  },
  {
   "cell_type": "markdown",
   "id": "4c772881",
   "metadata": {},
   "source": [
    "### 🧪 Évaluation du modèle"
   ]
  },
  {
   "cell_type": "code",
   "execution_count": 10,
   "id": "03497e66",
   "metadata": {},
   "outputs": [],
   "source": [
    "def evaluate_and_report(model, tokenizer, df, label):\n",
    "    tokens, labels = tokenize_dataset(tokenizer, df)\n",
    "    predictions = model.predict(dict(tokens)).logits\n",
    "    y_pred = tf.argmax(predictions, axis=1).numpy()\n",
    "\n",
    "    print(f\"📊 Rapport de classification : {label}\")\n",
    "    print(classification_report(labels, y_pred, target_names=['négatif', 'positif']))\n",
    "\n",
    "    return {\n",
    "        \"modèle\": label,\n",
    "        \"accuracy\": accuracy_score(labels, y_pred),\n",
    "        \"precision\": precision_score(labels, y_pred),\n",
    "        \"recall\": recall_score(labels, y_pred),\n",
    "        \"f1\": f1_score(labels, y_pred)\n",
    "    }"
   ]
  },
  {
   "cell_type": "markdown",
   "id": "1917cec9",
   "metadata": {},
   "source": [
    "## 🚀 Entraînement et Évaluation des Modèles"
   ]
  },
  {
   "cell_type": "markdown",
   "id": "7827a5ab",
   "metadata": {},
   "source": [
    "### 🐦 Modèle 1 : BERTweet"
   ]
  },
  {
   "cell_type": "code",
   "execution_count": 11,
   "id": "cd5a1d47",
   "metadata": {},
   "outputs": [
    {
     "name": "stdout",
     "output_type": "stream",
     "text": [
      "➡️ Chargement du modèle et tokeniseur : vinai/bertweet-base\n"
     ]
    },
    {
     "name": "stderr",
     "output_type": "stream",
     "text": [
      "All model checkpoint layers were used when initializing TFRobertaForSequenceClassification.\n",
      "\n",
      "Some layers of TFRobertaForSequenceClassification were not initialized from the model checkpoint at vinai/bertweet-base and are newly initialized: ['classifier']\n",
      "You should probably TRAIN this model on a down-stream task to be able to use it for predictions and inference.\n"
     ]
    },
    {
     "name": "stdout",
     "output_type": "stream",
     "text": [
      "\n",
      "📦 Aperçu des étiquettes :\n",
      "   🔢 Forme : (3997,)\n",
      "   🧬 Dtype : <dtype: 'int64'>\n",
      "   🏷️ Uniques : [0 1]\n",
      "⚙️ Compilation du modèle...\n",
      "✅ Modèle compilé.\n",
      "🔥 Entraînement démarré...\n"
     ]
    },
    {
     "data": {
      "application/vnd.jupyter.widget-view+json": {
       "model_id": "0a272a67cc034b39bc48a1d25e32386b",
       "version_major": 2,
       "version_minor": 0
      },
      "text/plain": [
       "0epoch [00:00, ?epoch/s]"
      ]
     },
     "metadata": {},
     "output_type": "display_data"
    },
    {
     "data": {
      "application/vnd.jupyter.widget-view+json": {
       "model_id": "6fdf65b75a3b4b58aa59c34f4030d0ec",
       "version_major": 2,
       "version_minor": 0
      },
      "text/plain": [
       "0batch [00:00, ?batch/s]"
      ]
     },
     "metadata": {},
     "output_type": "display_data"
    },
    {
     "name": "stderr",
     "output_type": "stream",
     "text": [
      "2025-07-04 10:58:15.417915: I tensorflow/core/common_runtime/executor.cc:1197] [/device:CPU:0] (DEBUG INFO) Executor start aborting (this does not indicate an error and you can ignore this message): INVALID_ARGUMENT: You must feed a value for placeholder tensor 'Placeholder/_3' with dtype int64 and shape [3997]\n",
      "\t [[{{node Placeholder/_3}}]]\n",
      "2025-07-04 11:06:59.448564: I tensorflow/core/common_runtime/executor.cc:1197] [/device:CPU:0] (DEBUG INFO) Executor start aborting (this does not indicate an error and you can ignore this message): INVALID_ARGUMENT: You must feed a value for placeholder tensor 'Placeholder/_3' with dtype int64 and shape [856]\n",
      "\t [[{{node Placeholder/_3}}]]\n"
     ]
    },
    {
     "name": "stdout",
     "output_type": "stream",
     "text": [
      "\n",
      "Epoch 1: val_accuracy improved from inf to 0.83061, saving model to models/best_vinai_bertweet-base\n"
     ]
    },
    {
     "name": "stderr",
     "output_type": "stream",
     "text": [
      "2025-07-04 11:08:04.072784: W tensorflow/tsl/framework/cpu_allocator_impl.cc:83] Allocation of 11796664320 exceeds 10% of free system memory.\n"
     ]
    },
    {
     "name": "stdout",
     "output_type": "stream",
     "text": [
      "\n",
      "Epoch 2: val_accuracy did not improve from 0.83061\n"
     ]
    },
    {
     "name": "stderr",
     "output_type": "stream",
     "text": [
      "2025-07-04 11:17:56.619367: W tensorflow/tsl/framework/cpu_allocator_impl.cc:83] Allocation of 11796664320 exceeds 10% of free system memory.\n"
     ]
    },
    {
     "name": "stdout",
     "output_type": "stream",
     "text": [
      "\n",
      "Epoch 3: val_accuracy did not improve from 0.83061\n"
     ]
    },
    {
     "name": "stderr",
     "output_type": "stream",
     "text": [
      "2025-07-04 11:27:35.712853: W tensorflow/tsl/framework/cpu_allocator_impl.cc:83] Allocation of 11796664320 exceeds 10% of free system memory.\n"
     ]
    },
    {
     "name": "stdout",
     "output_type": "stream",
     "text": [
      "Restoring model weights from the end of the best epoch: 1.\n",
      "\n",
      "Epoch 4: val_accuracy did not improve from 0.83061\n"
     ]
    },
    {
     "name": "stderr",
     "output_type": "stream",
     "text": [
      "2025-07-04 11:37:05.461645: W tensorflow/tsl/framework/cpu_allocator_impl.cc:83] Allocation of 11796664320 exceeds 10% of free system memory.\n"
     ]
    },
    {
     "name": "stdout",
     "output_type": "stream",
     "text": [
      "Epoch 4: early stopping\n",
      "⏱️ Temps total: 39.2 min\n",
      "27/27 [==============================] - 42s 1s/step\n",
      "📊 Rapport de classification : BERTweet\n",
      "              precision    recall  f1-score   support\n",
      "\n",
      "     négatif       0.80      0.89      0.84       429\n",
      "     positif       0.87      0.77      0.82       428\n",
      "\n",
      "    accuracy                           0.83       857\n",
      "   macro avg       0.84      0.83      0.83       857\n",
      "weighted avg       0.84      0.83      0.83       857\n",
      "\n"
     ]
    },
    {
     "data": {
      "text/plain": [
       "{'modèle': 'BERTweet',\n",
       " 'accuracy': 0.8308051341890315,\n",
       " 'precision': 0.8733509234828496,\n",
       " 'recall': 0.7733644859813084,\n",
       " 'f1': 0.8203221809169764}"
      ]
     },
     "execution_count": 11,
     "metadata": {},
     "output_type": "execute_result"
    }
   ],
   "source": [
    "model1_name = \"vinai/bertweet-base\"\n",
    "model1, tokenizer1, hist1 = train_model(model1_name, train_df, val_df)\n",
    "evaluate_and_report(model1, tokenizer1, test_df, \"BERTweet\")"
   ]
  },
  {
   "cell_type": "markdown",
   "id": "892323e0",
   "metadata": {},
   "source": [
    "### 🤖 Modèle 2 : DistilBERT"
   ]
  },
  {
   "cell_type": "code",
   "execution_count": 12,
   "id": "c341022d",
   "metadata": {},
   "outputs": [
    {
     "name": "stdout",
     "output_type": "stream",
     "text": [
      "➡️ Chargement du modèle et tokeniseur : distilbert-base-uncased\n"
     ]
    },
    {
     "name": "stderr",
     "output_type": "stream",
     "text": [
      "Some weights of the PyTorch model were not used when initializing the TF 2.0 model TFDistilBertForSequenceClassification: ['vocab_transform.weight', 'vocab_layer_norm.bias', 'vocab_transform.bias', 'vocab_layer_norm.weight', 'vocab_projector.bias']\n",
      "- This IS expected if you are initializing TFDistilBertForSequenceClassification from a PyTorch model trained on another task or with another architecture (e.g. initializing a TFBertForSequenceClassification model from a BertForPreTraining model).\n",
      "- This IS NOT expected if you are initializing TFDistilBertForSequenceClassification from a PyTorch model that you expect to be exactly identical (e.g. initializing a TFBertForSequenceClassification model from a BertForSequenceClassification model).\n",
      "Some weights or buffers of the TF 2.0 model TFDistilBertForSequenceClassification were not initialized from the PyTorch model and are newly initialized: ['pre_classifier.weight', 'pre_classifier.bias', 'classifier.weight', 'classifier.bias']\n",
      "You should probably TRAIN this model on a down-stream task to be able to use it for predictions and inference.\n"
     ]
    },
    {
     "name": "stdout",
     "output_type": "stream",
     "text": [
      "\n",
      "📦 Aperçu des étiquettes :\n",
      "   🔢 Forme : (3997,)\n",
      "   🧬 Dtype : <dtype: 'int64'>\n",
      "   🏷️ Uniques : [0 1]\n",
      "⚙️ Compilation du modèle...\n",
      "✅ Modèle compilé.\n",
      "🔥 Entraînement démarré...\n"
     ]
    },
    {
     "data": {
      "application/vnd.jupyter.widget-view+json": {
       "model_id": "d777ade0649c4656bbaa5cba47574277",
       "version_major": 2,
       "version_minor": 0
      },
      "text/plain": [
       "0epoch [00:00, ?epoch/s]"
      ]
     },
     "metadata": {},
     "output_type": "display_data"
    },
    {
     "data": {
      "application/vnd.jupyter.widget-view+json": {
       "model_id": "2b73ccb9cad4403b999ebe35ff0c4691",
       "version_major": 2,
       "version_minor": 0
      },
      "text/plain": [
       "0batch [00:00, ?batch/s]"
      ]
     },
     "metadata": {},
     "output_type": "display_data"
    },
    {
     "name": "stderr",
     "output_type": "stream",
     "text": [
      "2025-07-04 11:38:11.791865: I tensorflow/core/common_runtime/executor.cc:1197] [/device:CPU:0] (DEBUG INFO) Executor start aborting (this does not indicate an error and you can ignore this message): INVALID_ARGUMENT: You must feed a value for placeholder tensor 'Placeholder/_1' with dtype int32 and shape [3997,32]\n",
      "\t [[{{node Placeholder/_1}}]]\n",
      "2025-07-04 11:42:16.859730: I tensorflow/core/common_runtime/executor.cc:1197] [/device:CPU:0] (DEBUG INFO) Executor start aborting (this does not indicate an error and you can ignore this message): INVALID_ARGUMENT: You must feed a value for placeholder tensor 'Placeholder/_2' with dtype int64 and shape [856]\n",
      "\t [[{{node Placeholder/_2}}]]\n"
     ]
    },
    {
     "name": "stdout",
     "output_type": "stream",
     "text": [
      "\n",
      "Epoch 1: val_accuracy improved from inf to 0.88902, saving model to models/best_distilbert-base-uncased\n"
     ]
    },
    {
     "name": "stderr",
     "output_type": "stream",
     "text": [
      "2025-07-04 11:42:35.587537: W tensorflow/tsl/framework/cpu_allocator_impl.cc:83] Allocation of 5625815040 exceeds 10% of free system memory.\n"
     ]
    },
    {
     "name": "stdout",
     "output_type": "stream",
     "text": [
      "\n",
      "Epoch 2: val_accuracy did not improve from 0.88902\n",
      "\n",
      "Epoch 3: val_accuracy did not improve from 0.88902\n",
      "Restoring model weights from the end of the best epoch: 1.\n",
      "\n",
      "Epoch 4: val_accuracy did not improve from 0.88902\n",
      "Epoch 4: early stopping\n",
      "⏱️ Temps total: 17.6 min\n",
      "27/27 [==============================] - 16s 544ms/step\n",
      "📊 Rapport de classification : DistilBERT\n",
      "              precision    recall  f1-score   support\n",
      "\n",
      "     négatif       0.92      0.83      0.87       429\n",
      "     positif       0.84      0.93      0.88       428\n",
      "\n",
      "    accuracy                           0.88       857\n",
      "   macro avg       0.88      0.88      0.88       857\n",
      "weighted avg       0.88      0.88      0.88       857\n",
      "\n"
     ]
    },
    {
     "data": {
      "text/plain": [
       "{'modèle': 'DistilBERT',\n",
       " 'accuracy': 0.8763127187864644,\n",
       " 'precision': 0.8425531914893617,\n",
       " 'recall': 0.9252336448598131,\n",
       " 'f1': 0.8819599109131403}"
      ]
     },
     "execution_count": 12,
     "metadata": {},
     "output_type": "execute_result"
    }
   ],
   "source": [
    "model2_name = \"distilbert-base-uncased\"\n",
    "model2, tokenizer2, hist2 = train_model(model2_name, train_df, val_df)\n",
    "evaluate_and_report(model2, tokenizer2, test_df, \"DistilBERT\")"
   ]
  },
  {
   "cell_type": "markdown",
   "id": "9c58f903",
   "metadata": {},
   "source": [
    "## 🧪 Résumé des performances des modèles\n",
    "\n",
    "Dans cette section, nous comparons les performances de BERTweet et DistilBERT sur le jeu de test en utilisant plusieurs métriques :\n",
    "\n",
    "- **Accuracy** : pourcentage de prédictions correctes.\n",
    "- **Précision** : proportion de vrais positifs parmi les prédits positifs.\n",
    "- **Rappel** : proportion de vrais positifs détectés parmi tous les positifs réels.\n",
    "- **F1-score** : moyenne harmonique entre précision et rappel.\n",
    "\n",
    "Un tableau et une heatmap permettent une lecture rapide des résultats.\n"
   ]
  },
  {
   "cell_type": "code",
   "execution_count": 13,
   "id": "20d16596",
   "metadata": {},
   "outputs": [
    {
     "name": "stdout",
     "output_type": "stream",
     "text": [
      "27/27 [==============================] - 28s 1s/step\n",
      "27/27 [==============================] - 14s 515ms/step\n",
      "            accuracy  precision    recall        f1\n",
      "BERTweet    0.830805   0.873351  0.773364  0.820322\n",
      "DistilBERT  0.876313   0.842553  0.925234  0.881960\n"
     ]
    },
    {
     "data": {
      "text/plain": [
       "<Axes: >"
      ]
     },
     "execution_count": 13,
     "metadata": {},
     "output_type": "execute_result"
    },
    {
     "data": {
      "text/plain": [
       "Text(0.5, 1.0, 'Comparaison des performances')"
      ]
     },
     "execution_count": 13,
     "metadata": {},
     "output_type": "execute_result"
    },
    {
     "data": {
      "image/png": "[encoded data removed]",
      "text/plain": [
       "<Figure size 1200x800 with 2 Axes>"
      ]
     },
     "metadata": {},
     "output_type": "display_data"
    }
   ],
   "source": [
    "def compute_metrics(model, tokenizer, df):\n",
    "    tokens, labels = tokenize_dataset(tokenizer, df)\n",
    "    preds = model.predict(dict(tokens)).logits\n",
    "    y_pred = tf.argmax(preds, axis=1).numpy()\n",
    "    return {\n",
    "        \"accuracy\": np.mean(y_pred == labels.numpy()),\n",
    "        \"precision\": precision_score(labels, y_pred),\n",
    "        \"recall\": recall_score(labels, y_pred),\n",
    "        \"f1\": f1_score(labels, y_pred)\n",
    "    }\n",
    "\n",
    "bertweet_metrics = compute_metrics(model1, tokenizer1, test_df)\n",
    "distilbert_metrics = compute_metrics(model2, tokenizer2, test_df)\n",
    "\n",
    "comparison_df = pd.DataFrame([bertweet_metrics, distilbert_metrics], index=[\"BERTweet\", \"DistilBERT\"])\n",
    "print(comparison_df)\n",
    "sns.heatmap(comparison_df, annot=True, fmt=\".2f\", cmap=\"Blues\")\n",
    "plt.title(\"Comparaison des performances\")\n",
    "plt.show()"
   ]
  },
  {
   "cell_type": "markdown",
   "id": "f00f607c",
   "metadata": {},
   "source": [
    "## 📊 Visualisation des performances des modèles\n",
    "\n",
    "Les courbes ci-dessous montrent l'évolution de la précision et de la fonction de perte pendant l'entraînement pour chaque modèle.\n",
    "\n",
    "Cela permet de mieux comprendre :\n",
    "- La vitesse d'apprentissage\n",
    "- La capacité de généralisation sur les données de validation\n",
    "- Les tendances de sur-apprentissage éventuelles\n"
   ]
  },
  {
   "cell_type": "code",
   "execution_count": 14,
   "id": "fe36d65a",
   "metadata": {},
   "outputs": [
    {
     "data": {
      "text/plain": [
       "<Figure size 1200x500 with 0 Axes>"
      ]
     },
     "execution_count": 14,
     "metadata": {},
     "output_type": "execute_result"
    },
    {
     "data": {
      "text/plain": [
       "<Axes: >"
      ]
     },
     "execution_count": 14,
     "metadata": {},
     "output_type": "execute_result"
    },
    {
     "data": {
      "text/plain": [
       "[<matplotlib.lines.Line2D at 0x7c1d9fe296f0>]"
      ]
     },
     "execution_count": 14,
     "metadata": {},
     "output_type": "execute_result"
    },
    {
     "data": {
      "text/plain": [
       "[<matplotlib.lines.Line2D at 0x7c1d9fe29990>]"
      ]
     },
     "execution_count": 14,
     "metadata": {},
     "output_type": "execute_result"
    },
    {
     "data": {
      "text/plain": [
       "[<matplotlib.lines.Line2D at 0x7c1d9fe29c30>]"
      ]
     },
     "execution_count": 14,
     "metadata": {},
     "output_type": "execute_result"
    },
    {
     "data": {
      "text/plain": [
       "[<matplotlib.lines.Line2D at 0x7c1d9fe29ed0>]"
      ]
     },
     "execution_count": 14,
     "metadata": {},
     "output_type": "execute_result"
    },
    {
     "data": {
      "text/plain": [
       "Text(0.5, 1.0, 'Accuracy')"
      ]
     },
     "execution_count": 14,
     "metadata": {},
     "output_type": "execute_result"
    },
    {
     "data": {
      "text/plain": [
       "<matplotlib.legend.Legend at 0x7c1d9fe29c60>"
      ]
     },
     "execution_count": 14,
     "metadata": {},
     "output_type": "execute_result"
    },
    {
     "data": {
      "text/plain": [
       "<Axes: >"
      ]
     },
     "execution_count": 14,
     "metadata": {},
     "output_type": "execute_result"
    },
    {
     "data": {
      "text/plain": [
       "[<matplotlib.lines.Line2D at 0x7c1d9fef4940>]"
      ]
     },
     "execution_count": 14,
     "metadata": {},
     "output_type": "execute_result"
    },
    {
     "data": {
      "text/plain": [
       "[<matplotlib.lines.Line2D at 0x7c1d9fef4be0>]"
      ]
     },
     "execution_count": 14,
     "metadata": {},
     "output_type": "execute_result"
    },
    {
     "data": {
      "text/plain": [
       "[<matplotlib.lines.Line2D at 0x7c1d9fef4eb0>]"
      ]
     },
     "execution_count": 14,
     "metadata": {},
     "output_type": "execute_result"
    },
    {
     "data": {
      "text/plain": [
       "[<matplotlib.lines.Line2D at 0x7c1d9fef5120>]"
      ]
     },
     "execution_count": 14,
     "metadata": {},
     "output_type": "execute_result"
    },
    {
     "data": {
      "text/plain": [
       "Text(0.5, 1.0, 'Loss')"
      ]
     },
     "execution_count": 14,
     "metadata": {},
     "output_type": "execute_result"
    },
    {
     "data": {
      "text/plain": [
       "<matplotlib.legend.Legend at 0x7c1db56ee950>"
      ]
     },
     "execution_count": 14,
     "metadata": {},
     "output_type": "execute_result"
    },
    {
     "data": {
      "image/png": "[encoded data removed]",
      "text/plain": [
       "<Figure size 1200x500 with 2 Axes>"
      ]
     },
     "metadata": {},
     "output_type": "display_data"
    }
   ],
   "source": [
    "plt.figure(figsize=(12, 5))\n",
    "plt.subplot(1, 2, 1)\n",
    "plt.plot(hist1.history['accuracy'], label='BERTweet - train')\n",
    "plt.plot(hist1.history['val_accuracy'], label='BERTweet - val')\n",
    "plt.plot(hist2.history['accuracy'], label='DistilBERT - train')\n",
    "plt.plot(hist2.history['val_accuracy'], label='DistilBERT - val')\n",
    "plt.title('Accuracy')\n",
    "plt.legend()\n",
    "\n",
    "plt.subplot(1, 2, 2)\n",
    "plt.plot(hist1.history['loss'], label='BERTweet - train')\n",
    "plt.plot(hist1.history['val_loss'], label='BERTweet - val')\n",
    "plt.plot(hist2.history['loss'], label='DistilBERT - train')\n",
    "plt.plot(hist2.history['val_loss'], label='DistilBERT - val')\n",
    "plt.title('Loss')\n",
    "plt.legend()\n",
    "plt.tight_layout()\n",
    "plt.show()\n"
   ]
  },
  {
   "cell_type": "markdown",
   "id": "510a5b9e",
   "metadata": {},
   "source": [
    "## 🧾 Conclusion : Comparaison des Modèles\n",
    "\n",
    "### 📊 Résumé des performances\n",
    "\n",
    "Les deux modèles préentraînés testés sur la tâche d’analyse de sentiment ont obtenu de bons résultats. Voici les points clés :\n",
    "\n",
    "| Modèle       | Accuracy | Précision (macro) | Rappel (macro) | F1-score (macro) |\n",
    "|--------------|----------|-------------------|----------------|------------------|\n",
    "| **DistilBERT** | **0.88** | **0.88**           | **0.88**        | **0.88**          |\n",
    "| **BERTweet**   | 0.83     | 0.84              | 0.83           | 0.83             |\n",
    "\n",
    "### 📊 Analyse détaillée\n",
    "**DistilBERT** (accuracy = 88%)\n",
    "- Très bon f1-score global (0.88).\n",
    "- Précision haute sur négatif (0.92) → bonne capacité à éviter les faux positifs.\n",
    "- Recall élevé sur positif (0.93) → bonne détection des sentiments positifs.\n",
    "En résumé : modèle stable et fiable, même sans fine-tuning complet.\n",
    "\n",
    "**BERTweet** (accuracy = 83%)\n",
    "- Précision plus forte sur positif que sur négatif, mais recall inversé.\n",
    "- Fait plus d'erreurs en confondant les sentiments.\n",
    "Potentiellement sous-utilisé ici, mais entrainement particulièrement long.\n",
    "\n",
    "### 🧠 Interprétation\n",
    "\n",
    "- **DistilBERT** dépasse légèrement BERTweet sur toutes les métriques, malgré un modèle plus léger (~2x moins de paramètres).\n",
    "- **BERTweet** reste pertinent pour des textes plus informels (ex. Twitter), mais sur ce jeu de données, DistilBERT est supérieur.\n",
    "- Les deux modèles sont bien adaptés à une mise en production, mais **DistilBERT** combine mieux performance et efficacité.\n",
    "\n",
    "### ✅ Recommandation\n",
    "\n",
    "- Pour une application rapide, efficace et performante : **DistilBERT** est le meilleur choix ici."
   ]
  }
 ],
 "metadata": {
  "kernelspec": {
   "display_name": ".venv",
   "language": "python",
   "name": "python3"
  },
  "language_info": {
   "codemirror_mode": {
    "name": "ipython",
    "version": 3
   },
   "file_extension": ".py",
   "mimetype": "text/x-python",
   "name": "python",
   "nbconvert_exporter": "python",
   "pygments_lexer": "ipython3",
   "version": "3.12.6"
  }
 },
 "nbformat": 4,
 "nbformat_minor": 5
}
